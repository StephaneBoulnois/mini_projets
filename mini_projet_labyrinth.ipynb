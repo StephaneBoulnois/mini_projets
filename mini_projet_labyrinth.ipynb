{
  "nbformat": 4,
  "nbformat_minor": 0,
  "metadata": {
    "colab": {
      "provenance": []
    },
    "kernelspec": {
      "name": "python3",
      "display_name": "Python 3"
    },
    "language_info": {
      "name": "python"
    }
  },
  "cells": [
    {
      "cell_type": "markdown",
      "source": [
        "Ce mini projet consistera à **créer une fonction qui géneras** automatiquement **des labyrinthes** à partir d'un **dfs**."
      ],
      "metadata": {
        "id": "_Vlb0hlZtVQU"
      }
    },
    {
      "cell_type": "markdown",
      "source": [
        "#Déjà le dfs de base c'est :"
      ],
      "metadata": {
        "id": "qhYxHnxv1TgP"
      }
    },
    {
      "cell_type": "markdown",
      "source": [
        "Une fonction qui permet de parcourir une pile de fond en comble mais par l'intermédiare de \"branches\", ce qui est parfait pour nous."
      ],
      "metadata": {
        "id": "97YBzLPj1ZXW"
      }
    },
    {
      "cell_type": "code",
      "source": [
        " def dfs(G,depart):\n",
        "    pile = deque()\n",
        "    pile.append(depart)\n",
        "    Vus = {s : False for s in G}\n",
        "    Sommets = []\n",
        "    while pile :\n",
        "        sommet = pile.pop()\n",
        "        if not Vus[sommet] :\n",
        "            pile += G[sommet]\n",
        "            Vus[sommet] = True\n",
        "            Sommets.append(sommet) \n",
        "    return Sommets"
      ],
      "metadata": {
        "id": "rqE3hDZ21nw1"
      },
      "execution_count": 3,
      "outputs": []
    },
    {
      "cell_type": "markdown",
      "source": [
        "# Les étapes dans les grandes lignes :"
      ],
      "metadata": {
        "id": "Af-RruO7165k"
      }
    },
    {
      "cell_type": "markdown",
      "source": [
        "**Pour ce faire. il faut suivre ces indications:**\n",
        "\n",
        "\n",
        "1.   créer un carré/rectangle définie par les dimensions données, et replie de petits carrés\n",
        "2.   regarder les carré pour voir quel mur retirer ( on ne pourra pas retirer les murs qui font le contour du labyrinthe ni les murs voisins de cases déjà visité\n",
        "\n",
        "1.   s'il ne peut pas être retiré alors : --> revenir à un carré précédant celui actuel \n",
        "2.   s'il peut être retirer alors : --> choisir un mur de la case au pif, le supprimer et aller dans la prochaine case\n",
        "\n",
        "1.   se demander si toutes les cases ont été visités\n",
        "2.   s'il en manque, revenir à l'étape 2\n",
        "\n",
        "1.   si ont à visités toutes les cases, le labyrinthe est finit.\n",
        "\n",
        "\n",
        "\n",
        "\n",
        "\n",
        "\n",
        "\n",
        "\n"
      ],
      "metadata": {
        "id": "CtestmV7zGWx"
      }
    },
    {
      "cell_type": "markdown",
      "source": [
        "les deux trucs à importer très important sont :"
      ],
      "metadata": {
        "id": "kdRAQFV12Fuk"
      }
    },
    {
      "cell_type": "code",
      "source": [
        "import random # pour choisir les murs au pif \n",
        "import turtle # pour l'affichage"
      ],
      "metadata": {
        "id": "EgmgvPNj4G_7"
      },
      "execution_count": 4,
      "outputs": []
    },
    {
      "cell_type": "markdown",
      "source": [
        "On va aussi avoir besoin d'une petite fonction somme:\n"
      ],
      "metadata": {
        "id": "cFHew6CJ3_pH"
      }
    },
    {
      "cell_type": "code",
      "source": [
        "def somme_liste(input):\n",
        "    somme = 0\n",
        "    for ligne in input:\n",
        "        somme += sum(ligne)\n",
        "    return somme"
      ],
      "metadata": {
        "id": "yY6HSzlX4coR"
      },
      "execution_count": 5,
      "outputs": []
    },
    {
      "cell_type": "markdown",
      "source": [
        "Commençons par creer une fonction qui va creer le fond du labyrinthe"
      ],
      "metadata": {
        "id": "AcPXGpLZDTHH"
      }
    },
    {
      "cell_type": "code",
      "source": [
        "def creer_labyrinthe(longueur,largeur):\n",
        "    \"\"\"\n",
        "    longueur : int, c'est la longueur attendu pour labyrinthe résultant de la fonction\n",
        "    largeur : int, c'est la longueur attendu pour labyrinthe résultant de la fonction\n",
        "    \"\"\"\n",
        "    murs=[[[1,1,1,1] for a in range(longueur)] for b in range(largeur)]\n",
        "    x=0\n",
        "    y=0\n",
        "    les_visités=0\n",
        "    sommet_actuel=[x,y]\n",
        "    visité=[[0 for a in range(longueur)] for b in range(largeur)]\n",
        "    visité[x][y]=1\n",
        "    visitn=[[x,y]]\n",
        "    n=0\n",
        "    while les_visités!=(longueur*largeur):\n",
        "        possibilité=[0,0,0,0]\n",
        "        \n",
        "         #la on va regardé quels sont les murs qui peuvent être retiré\n",
        "        \n",
        "        if x!=0:\n",
        "            if visité[y][x-1]==0:\n",
        "                possibilité[0]=1  #le mur de gauche peut être retiré\n",
        "                \n",
        "        if y!=largeur-1:\n",
        "            if visité[y+1][x]==0:\n",
        "                possibilité[1]=1 # le mur de devant peut être retiré\n",
        "                \n",
        "        if x!=longueur-1:\n",
        "            if visité[y][x+1]==0:\n",
        "                possibilité[2]=1 # le mur de droite peut être retiré\n",
        "                \n",
        "        if y!=0:\n",
        "            if visité[y-1][x]==0:\n",
        "                possibilité[3]=1 #le mur du dessous peut être retiré\n",
        "                \n",
        "        \n",
        "        if possibilité==[0,0,0,0]:\n",
        "            sommet_actuel=visitn[n-1]\n",
        "            x=sommet_actuel[0]\n",
        "            y=sommet_actuel[1]\n",
        "            n=n-1# en gros la on à aucune possibilité donc on revient à la dernière case\n",
        "            \n",
        "            #la on va choisir où on va, et la le random va être giga utile car il va chosir à notre place\n",
        "        else:\n",
        "            sommet_trouvé=False\n",
        "            while sommet_trouvé==False:\n",
        "                al=random.randint(0,3)# al c'est le chiffre aléatoire entre 1 et 3 compris\n",
        "                \n",
        "                # Maintenant on va décortiquer les différents cas de al possible.\n",
        "                if possibilité[al]==1:\n",
        "                    \n",
        "                    if al==0:\n",
        "                        sommet_opposé=[sommet_actuel[0]-1,sommet_actuel[1]]# on va sur la case de gauche\n",
        "                        murs[sommet_actuel[1]][sommet_actuel[0]][0]=0# on retire le mur de gauche\n",
        "                        murs[sommet_opposé[1]][sommet_opposé[0]][2]=0\n",
        "                    \n",
        "                    elif al==1:\n",
        "                        sommet_opposé=[sommet_actuel[0],sommet_actuel[1]+1]# on va sur la case de devant\n",
        "                        murs[sommet_actuel[1]][sommet_actuel[0]][1]=0# on retire le mur de devant\n",
        "                        murs[sommet_opposé[1]][sommet_opposé[0]][3]=0\n",
        "                    \n",
        "                    elif al==2:\n",
        "                        sommet_opposé=[sommet_actuel[0]+1,sommet_actuel[1]]# on va sur la case de droite\n",
        "                        murs[sommet_actuel[1]][sommet_actuel[0]][2]=0# on retire le mur de droite\n",
        "                        murs[sommet_opposé[1]][sommet_opposé[0]][0]=0\n",
        "                    \n",
        "                    else:\n",
        "                        sommet_opposé=[sommet_actuel[0],sommet_actuel[1]-1]# on va sur la case du dessous\n",
        "                        murs[sommet_actuel[1]][sommet_actuel[0]][3]=0# on retire le mur du dessous\n",
        "                        murs[sommet_opposé[1]][sommet_opposé[0]][1]=0\n",
        "                    \n",
        "                    # Maintenant il faut initialiser les valeurs et faire du code un dfs\n",
        "                    \n",
        "                    n=n+1\n",
        "                    visitn.insert(n,sommet_opposé)\n",
        "                    sommet_actuel=sommet_opposé\n",
        "                    visité[sommet_actuel[1]][sommet_actuel[0]]=1\n",
        "                    x=sommet_actuel[0]\n",
        "                    y=sommet_actuel[1]\n",
        "                    sommet_trouvé=True\n",
        "        les_visités=somme_liste(visité)\n",
        "    return(murs)\n"
      ],
      "metadata": {
        "id": "A2cnKDohtn2J"
      },
      "execution_count": 6,
      "outputs": []
    },
    {
      "cell_type": "markdown",
      "source": [
        "Maintenant créeons une fonction qui produit la forme du labyrinthe ou plutôt qui le déssine.\n",
        "aidons nous **Turtle** qui est plutôt utile et qui ressemble un peu à scratch"
      ],
      "metadata": {
        "id": "CNVk26TbDfGC"
      }
    },
    {
      "cell_type": "markdown",
      "source": [
        "Représentation technique:\n",
        "*   Pour une case qui contient [0,0,0,0] --> case sans mur\n",
        "*   une case qui contient [0,0,0,1] --> case avec un mur à gauche\n",
        "*   une case qui contient [0,0,1,0] --> case avec un mur en haut \n",
        "*   une case qui contient [0,1,0,0] --> case avec un mur à doite\n",
        "*   une case qui contient [1,0,0,0] --> case avec un mur en bas\n",
        "\n",
        "\n",
        "\n"
      ],
      "metadata": {
        "id": "m-x5fiKC9jeH"
      }
    },
    {
      "cell_type": "code",
      "source": [
        "def dessine_labyrinthe(longueur,largeur,murs):\n",
        "    début_x = -380\n",
        "    début_y = -début_x\n",
        "    taille_grille = (2*(-début_x))/longueur\n",
        "    turtle.clear()\n",
        "    turtle.speed(0)\n",
        "    turtle.penup()\n",
        "    turtle.goto(début_x,début_y)\n",
        "    turtle.pendown()\n",
        "    turtle.goto(-début_x,début_y)\n",
        "    turtle.goto(-début_x,-début_y)\n",
        "    turtle.setheading(0) #on règle l'orientation de la tortue vers la droite\n",
        "\n",
        "    #maintenant on va pouvoir lui donner les indications à suivre\n",
        "    for y in range(longueur):\n",
        "        turtle.penup()\n",
        "        turtle.goto(début_x,-début_y+taille_grille*(y))\n",
        "        for x in range(largeur):\n",
        "            if murs[y][x][3] == 1:\n",
        "                turtle.pendown()\n",
        "            else :\n",
        "                turtle.penup()\n",
        "                turtle.forward(taille_grille)\n",
        "    turtle.left(90)\n",
        "\n",
        "    for x in range(longueur):\n",
        "        turtle.penup()\n",
        "        turtle.goto(début_x+taille_grille*(x),-début_y)\n",
        "        for y in range(largeur):\n",
        "            if murs[y][x][0] == 1:\n",
        "                turtle.pendown()\n",
        "            else:\n",
        "                turtle.penup()\n",
        "            turtle.forward(taille_grille)"
      ],
      "metadata": {
        "id": "tLe3A7P6CgPg"
      },
      "execution_count": 7,
      "outputs": []
    },
    {
      "cell_type": "markdown",
      "source": [
        "On peut donc créer la fonction final :"
      ],
      "metadata": {
        "id": "-JRm_iAFDwRf"
      }
    },
    {
      "cell_type": "code",
      "source": [
        "def labyrinthe():\n",
        "    longueur = 20\n",
        "    largeur = 20\n",
        "    murs = creer_labyrinthe(longueur,largeur)\n",
        "    print(murs)\n",
        "    dessine_labyrinthe(longueur,largeur,murs)"
      ],
      "metadata": {
        "id": "czOEjp4MCtig"
      },
      "execution_count": 8,
      "outputs": []
    },
    {
      "cell_type": "code",
      "source": [
        "labyrinthe()"
      ],
      "metadata": {
        "id": "sanRnSMe57wg",
        "colab": {
          "base_uri": "https://localhost:8080/",
          "height": 344
        },
        "outputId": "910b7dc3-e841-4f93-dda3-5a70a27d3101"
      },
      "execution_count": 9,
      "outputs": [
        {
          "output_type": "stream",
          "name": "stdout",
          "text": [
            "[[[1, 0, 1, 1], [1, 1, 0, 1], [0, 1, 0, 1], [0, 0, 0, 1], [0, 1, 1, 1], [1, 0, 0, 1], [0, 1, 0, 1], [0, 0, 0, 1], [0, 0, 1, 1], [1, 1, 0, 1], [0, 1, 0, 1], [0, 0, 0, 1], [0, 1, 0, 1], [0, 0, 1, 1], [1, 0, 0, 1], [0, 1, 0, 1], [0, 0, 0, 1], [0, 0, 1, 1], [1, 1, 0, 1], [0, 0, 1, 1]], [[1, 0, 1, 0], [1, 0, 0, 1], [0, 0, 1, 1], [1, 0, 0, 0], [0, 0, 1, 1], [1, 0, 0, 0], [0, 1, 1, 1], [1, 0, 1, 0], [1, 1, 0, 0], [0, 1, 0, 1], [0, 0, 1, 1], [1, 1, 0, 0], [0, 0, 1, 1], [1, 0, 1, 0], [1, 0, 1, 0], [1, 0, 0, 1], [0, 1, 1, 0], [1, 1, 0, 0], [0, 1, 0, 1], [0, 0, 1, 0]], [[1, 1, 0, 0], [0, 1, 1, 0], [1, 0, 1, 0], [1, 0, 1, 0], [1, 1, 0, 0], [0, 1, 1, 0], [1, 0, 0, 1], [0, 1, 1, 0], [1, 0, 0, 1], [0, 1, 1, 1], [1, 1, 0, 0], [0, 1, 0, 1], [0, 1, 1, 0], [1, 0, 1, 0], [1, 1, 1, 0], [1, 0, 1, 0], [1, 0, 0, 1], [0, 0, 1, 1], [1, 0, 0, 1], [0, 1, 1, 0]], [[1, 0, 1, 1], [1, 0, 0, 1], [0, 1, 1, 0], [1, 1, 0, 0], [0, 1, 0, 1], [0, 0, 1, 1], [1, 1, 0, 0], [0, 0, 1, 1], [1, 0, 0, 0], [0, 1, 0, 1], [0, 0, 0, 1], [0, 1, 0, 1], [0, 0, 1, 1], [1, 1, 0, 0], [0, 1, 0, 1], [0, 1, 1, 0], [1, 0, 1, 0], [1, 1, 0, 0], [0, 1, 1, 0], [1, 0, 1, 1]], [[1, 0, 0, 0], [0, 1, 1, 0], [1, 1, 0, 1], [0, 0, 0, 1], [0, 1, 0, 1], [0, 1, 1, 0], [1, 0, 0, 1], [0, 1, 1, 0], [1, 0, 0, 0], [0, 1, 1, 1], [1, 0, 1, 0], [1, 0, 1, 1], [1, 1, 0, 0], [0, 1, 0, 1], [0, 0, 1, 1], [1, 0, 1, 1], [1, 1, 0, 0], [0, 1, 0, 1], [0, 1, 0, 1], [0, 0, 1, 0]], [[1, 0, 1, 0], [1, 0, 0, 1], [0, 0, 1, 1], [1, 1, 0, 0], [0, 1, 0, 1], [0, 0, 1, 1], [1, 0, 1, 0], [1, 0, 0, 1], [0, 1, 1, 0], [1, 0, 0, 1], [0, 1, 1, 0], [1, 0, 0, 0], [0, 1, 0, 1], [0, 1, 1, 1], [1, 0, 1, 0], [1, 0, 0, 0], [0, 1, 1, 1], [1, 0, 0, 1], [0, 1, 0, 1], [0, 1, 1, 0]], [[1, 1, 0, 0], [0, 1, 1, 0], [1, 0, 1, 0], [1, 0, 0, 1], [0, 1, 0, 1], [0, 1, 1, 0], [1, 0, 1, 0], [1, 1, 0, 0], [0, 0, 1, 1], [1, 0, 1, 0], [1, 0, 1, 1], [1, 0, 0, 0], [0, 1, 0, 1], [0, 0, 1, 1], [1, 0, 1, 0], [1, 0, 1, 0], [1, 0, 0, 1], [0, 1, 1, 0], [1, 1, 0, 1], [0, 0, 1, 1]], [[1, 0, 0, 1], [0, 1, 0, 1], [0, 1, 1, 0], [1, 1, 0, 0], [0, 1, 1, 1], [1, 0, 0, 1], [0, 1, 1, 0], [1, 0, 0, 1], [0, 1, 1, 0], [1, 0, 1, 0], [1, 1, 0, 0], [0, 1, 0, 0], [0, 0, 1, 1], [1, 1, 0, 0], [0, 1, 0, 0], [0, 1, 1, 0], [1, 1, 0, 0], [0, 1, 0, 1], [0, 1, 0, 1], [0, 0, 1, 0]], [[1, 1, 0, 0], [0, 0, 1, 1], [1, 0, 0, 1], [0, 0, 0, 1], [0, 0, 1, 1], [1, 1, 0, 0], [0, 0, 1, 1], [1, 0, 1, 0], [1, 0, 1, 1], [1, 1, 0, 0], [0, 0, 1, 1], [1, 1, 0, 1], [0, 1, 1, 0], [1, 0, 0, 1], [0, 1, 0, 1], [0, 1, 0, 1], [0, 0, 1, 1], [1, 0, 0, 1], [0, 1, 0, 1], [0, 1, 1, 0]], [[1, 0, 1, 1], [1, 0, 1, 0], [1, 0, 1, 0], [1, 0, 1, 0], [1, 1, 0, 0], [0, 1, 0, 1], [0, 1, 1, 0], [1, 0, 1, 0], [1, 1, 0, 0], [0, 0, 1, 1], [1, 1, 0, 0], [0, 1, 0, 1], [0, 1, 0, 1], [0, 1, 1, 0], [1, 1, 0, 1], [0, 0, 1, 1], [1, 0, 1, 0], [1, 1, 0, 0], [0, 1, 0, 1], [0, 0, 1, 1]], [[1, 0, 0, 0], [0, 1, 1, 0], [1, 1, 1, 0], [1, 0, 0, 0], [0, 1, 0, 1], [0, 0, 1, 1], [1, 0, 1, 1], [1, 1, 0, 0], [0, 0, 1, 1], [1, 0, 1, 0], [1, 0, 0, 1], [0, 1, 0, 1], [0, 1, 0, 1], [0, 0, 0, 1], [0, 1, 0, 1], [0, 0, 1, 0], [1, 1, 0, 0], [0, 1, 0, 1], [0, 0, 1, 1], [1, 0, 1, 0]], [[1, 0, 1, 0], [1, 0, 0, 1], [0, 0, 1, 1], [1, 1, 1, 0], [1, 0, 0, 1], [0, 1, 1, 0], [1, 0, 0, 0], [0, 0, 1, 1], [1, 0, 1, 0], [1, 0, 1, 0], [1, 0, 1, 0], [1, 0, 0, 1], [0, 0, 1, 1], [1, 0, 1, 0], [1, 0, 1, 1], [1, 1, 0, 0], [0, 0, 1, 1], [1, 0, 1, 1], [1, 1, 0, 0], [0, 1, 1, 0]], [[1, 0, 1, 0], [1, 0, 1, 0], [1, 1, 0, 0], [0, 0, 1, 1], [1, 0, 1, 0], [1, 0, 0, 1], [0, 1, 1, 0], [1, 1, 1, 0], [1, 0, 1, 0], [1, 1, 0, 0], [0, 1, 1, 0], [1, 0, 1, 0], [1, 1, 0, 0], [0, 1, 1, 0], [1, 1, 0, 0], [0, 0, 1, 1], [1, 1, 0, 0], [0, 0, 1, 0], [1, 0, 0, 1], [0, 0, 1, 1]], [[1, 1, 0, 0], [0, 1, 1, 0], [1, 0, 1, 1], [1, 0, 1, 0], [1, 0, 1, 0], [1, 0, 0, 0], [0, 1, 0, 1], [0, 1, 0, 1], [0, 1, 1, 0], [1, 0, 0, 1], [0, 0, 1, 1], [1, 0, 1, 0], [1, 0, 0, 1], [0, 1, 0, 1], [0, 0, 1, 1], [1, 0, 0, 0], [0, 1, 0, 1], [0, 1, 1, 0], [1, 0, 1, 0], [1, 0, 1, 0]], [[1, 0, 0, 1], [0, 0, 0, 1], [0, 0, 1, 0], [1, 1, 0, 0], [0, 1, 1, 0], [1, 1, 0, 0], [0, 1, 0, 1], [0, 1, 0, 1], [0, 1, 0, 1], [0, 1, 1, 0], [1, 0, 1, 0], [1, 0, 0, 0], [0, 1, 1, 0], [1, 0, 0, 1], [0, 1, 1, 0], [1, 1, 0, 0], [0, 0, 1, 1], [1, 0, 0, 1], [0, 1, 1, 0], [1, 0, 1, 0]], [[1, 0, 1, 0], [1, 0, 1, 0], [1, 0, 1, 0], [1, 0, 0, 1], [0, 0, 1, 1], [1, 0, 0, 1], [0, 0, 0, 1], [0, 1, 1, 1], [1, 0, 0, 1], [0, 1, 0, 1], [0, 1, 1, 0], [1, 1, 0, 0], [0, 0, 1, 1], [1, 0, 1, 0], [1, 0, 1, 1], [1, 0, 0, 1], [0, 1, 1, 0], [1, 0, 0, 0], [0, 0, 1, 1], [1, 0, 1, 0]], [[1, 1, 1, 0], [1, 0, 1, 0], [1, 1, 1, 0], [1, 0, 1, 0], [1, 0, 1, 0], [1, 0, 1, 0], [1, 1, 0, 0], [0, 1, 0, 1], [0, 1, 1, 0], [1, 1, 0, 1], [0, 1, 0, 1], [0, 1, 0, 1], [0, 0, 1, 0], [1, 0, 1, 0], [1, 0, 1, 0], [1, 1, 0, 0], [0, 0, 1, 1], [1, 1, 1, 0], [1, 0, 1, 0], [1, 1, 1, 0]], [[1, 0, 0, 1], [0, 1, 1, 0], [1, 0, 0, 1], [0, 1, 1, 0], [1, 0, 1, 0], [1, 0, 1, 0], [1, 0, 0, 1], [0, 0, 0, 1], [0, 1, 0, 1], [0, 1, 0, 1], [0, 1, 0, 1], [0, 0, 1, 1], [1, 0, 1, 0], [1, 0, 1, 0], [1, 0, 0, 0], [0, 0, 1, 1], [1, 1, 0, 0], [0, 0, 1, 1], [1, 1, 0, 0], [0, 0, 1, 1]], [[1, 0, 0, 0], [0, 0, 1, 1], [1, 1, 0, 0], [0, 0, 1, 1], [1, 1, 0, 0], [0, 1, 1, 0], [1, 1, 1, 0], [1, 1, 0, 0], [0, 0, 1, 1], [1, 0, 1, 1], [1, 0, 0, 1], [0, 1, 1, 0], [1, 1, 1, 0], [1, 0, 1, 0], [1, 0, 1, 0], [1, 0, 1, 0], [1, 0, 0, 1], [0, 1, 1, 0], [1, 0, 0, 1], [0, 0, 1, 0]], [[1, 1, 1, 0], [1, 1, 0, 0], [0, 1, 0, 1], [0, 1, 0, 0], [0, 1, 0, 1], [0, 1, 0, 1], [0, 1, 0, 1], [0, 1, 0, 1], [0, 1, 1, 0], [1, 1, 0, 0], [0, 1, 0, 0], [0, 1, 0, 1], [0, 1, 0, 1], [0, 1, 1, 0], [1, 1, 1, 0], [1, 1, 0, 0], [0, 1, 0, 0], [0, 1, 0, 1], [0, 1, 1, 0], [1, 1, 1, 0]]]\n"
          ]
        },
        {
          "output_type": "error",
          "ename": "TclError",
          "evalue": "ignored",
          "traceback": [
            "\u001b[0;31m---------------------------------------------------------------------------\u001b[0m",
            "\u001b[0;31mTclError\u001b[0m                                  Traceback (most recent call last)",
            "\u001b[0;32m<ipython-input-9-7bdcedfedecc>\u001b[0m in \u001b[0;36m<cell line: 1>\u001b[0;34m()\u001b[0m\n\u001b[0;32m----> 1\u001b[0;31m \u001b[0mlabyrinthe\u001b[0m\u001b[0;34m(\u001b[0m\u001b[0;34m)\u001b[0m\u001b[0;34m\u001b[0m\u001b[0;34m\u001b[0m\u001b[0m\n\u001b[0m",
            "\u001b[0;32m<ipython-input-8-38a5b74303fd>\u001b[0m in \u001b[0;36mlabyrinthe\u001b[0;34m()\u001b[0m\n\u001b[1;32m      4\u001b[0m     \u001b[0mmurs\u001b[0m \u001b[0;34m=\u001b[0m \u001b[0mcreer_labyrinthe\u001b[0m\u001b[0;34m(\u001b[0m\u001b[0mlongueur\u001b[0m\u001b[0;34m,\u001b[0m\u001b[0mlargeur\u001b[0m\u001b[0;34m)\u001b[0m\u001b[0;34m\u001b[0m\u001b[0;34m\u001b[0m\u001b[0m\n\u001b[1;32m      5\u001b[0m     \u001b[0mprint\u001b[0m\u001b[0;34m(\u001b[0m\u001b[0mmurs\u001b[0m\u001b[0;34m)\u001b[0m\u001b[0;34m\u001b[0m\u001b[0;34m\u001b[0m\u001b[0m\n\u001b[0;32m----> 6\u001b[0;31m     \u001b[0mdessine_labyrinthe\u001b[0m\u001b[0;34m(\u001b[0m\u001b[0mlongueur\u001b[0m\u001b[0;34m,\u001b[0m\u001b[0mlargeur\u001b[0m\u001b[0;34m,\u001b[0m\u001b[0mmurs\u001b[0m\u001b[0;34m)\u001b[0m\u001b[0;34m\u001b[0m\u001b[0;34m\u001b[0m\u001b[0m\n\u001b[0m",
            "\u001b[0;32m<ipython-input-7-cd517c30c5a3>\u001b[0m in \u001b[0;36mdessine_labyrinthe\u001b[0;34m(longueur, largeur, murs)\u001b[0m\n\u001b[1;32m      3\u001b[0m     \u001b[0mdébut_y\u001b[0m \u001b[0;34m=\u001b[0m \u001b[0;34m-\u001b[0m\u001b[0mdébut_x\u001b[0m\u001b[0;34m\u001b[0m\u001b[0;34m\u001b[0m\u001b[0m\n\u001b[1;32m      4\u001b[0m     \u001b[0mtaille_grille\u001b[0m \u001b[0;34m=\u001b[0m \u001b[0;34m(\u001b[0m\u001b[0;36m2\u001b[0m\u001b[0;34m*\u001b[0m\u001b[0;34m(\u001b[0m\u001b[0;34m-\u001b[0m\u001b[0mdébut_x\u001b[0m\u001b[0;34m)\u001b[0m\u001b[0;34m)\u001b[0m\u001b[0;34m/\u001b[0m\u001b[0mlongueur\u001b[0m\u001b[0;34m\u001b[0m\u001b[0;34m\u001b[0m\u001b[0m\n\u001b[0;32m----> 5\u001b[0;31m     \u001b[0mturtle\u001b[0m\u001b[0;34m.\u001b[0m\u001b[0mclear\u001b[0m\u001b[0;34m(\u001b[0m\u001b[0;34m)\u001b[0m\u001b[0;34m\u001b[0m\u001b[0;34m\u001b[0m\u001b[0m\n\u001b[0m\u001b[1;32m      6\u001b[0m     \u001b[0mturtle\u001b[0m\u001b[0;34m.\u001b[0m\u001b[0mspeed\u001b[0m\u001b[0;34m(\u001b[0m\u001b[0;36m0\u001b[0m\u001b[0;34m)\u001b[0m\u001b[0;34m\u001b[0m\u001b[0;34m\u001b[0m\u001b[0m\n\u001b[1;32m      7\u001b[0m     \u001b[0mturtle\u001b[0m\u001b[0;34m.\u001b[0m\u001b[0mpenup\u001b[0m\u001b[0;34m(\u001b[0m\u001b[0;34m)\u001b[0m\u001b[0;34m\u001b[0m\u001b[0;34m\u001b[0m\u001b[0m\n",
            "\u001b[0;32m/usr/lib/python3.9/turtle.py\u001b[0m in \u001b[0;36mclear\u001b[0;34m()\u001b[0m\n",
            "\u001b[0;32m/usr/lib/python3.9/turtle.py\u001b[0m in \u001b[0;36m__init__\u001b[0;34m(self, shape, undobuffersize, visible)\u001b[0m\n\u001b[1;32m   3812\u001b[0m                  visible=_CFG[\"visible\"]):\n\u001b[1;32m   3813\u001b[0m         \u001b[0;32mif\u001b[0m \u001b[0mTurtle\u001b[0m\u001b[0;34m.\u001b[0m\u001b[0m_screen\u001b[0m \u001b[0;32mis\u001b[0m \u001b[0;32mNone\u001b[0m\u001b[0;34m:\u001b[0m\u001b[0;34m\u001b[0m\u001b[0;34m\u001b[0m\u001b[0m\n\u001b[0;32m-> 3814\u001b[0;31m             \u001b[0mTurtle\u001b[0m\u001b[0;34m.\u001b[0m\u001b[0m_screen\u001b[0m \u001b[0;34m=\u001b[0m \u001b[0mScreen\u001b[0m\u001b[0;34m(\u001b[0m\u001b[0;34m)\u001b[0m\u001b[0;34m\u001b[0m\u001b[0;34m\u001b[0m\u001b[0m\n\u001b[0m\u001b[1;32m   3815\u001b[0m         RawTurtle.__init__(self, Turtle._screen,\n\u001b[1;32m   3816\u001b[0m                            \u001b[0mshape\u001b[0m\u001b[0;34m=\u001b[0m\u001b[0mshape\u001b[0m\u001b[0;34m,\u001b[0m\u001b[0;34m\u001b[0m\u001b[0;34m\u001b[0m\u001b[0m\n",
            "\u001b[0;32m/usr/lib/python3.9/turtle.py\u001b[0m in \u001b[0;36mScreen\u001b[0;34m()\u001b[0m\n\u001b[1;32m   3662\u001b[0m     else return the existing one.\"\"\"\n\u001b[1;32m   3663\u001b[0m     \u001b[0;32mif\u001b[0m \u001b[0mTurtle\u001b[0m\u001b[0;34m.\u001b[0m\u001b[0m_screen\u001b[0m \u001b[0;32mis\u001b[0m \u001b[0;32mNone\u001b[0m\u001b[0;34m:\u001b[0m\u001b[0;34m\u001b[0m\u001b[0;34m\u001b[0m\u001b[0m\n\u001b[0;32m-> 3664\u001b[0;31m         \u001b[0mTurtle\u001b[0m\u001b[0;34m.\u001b[0m\u001b[0m_screen\u001b[0m \u001b[0;34m=\u001b[0m \u001b[0m_Screen\u001b[0m\u001b[0;34m(\u001b[0m\u001b[0;34m)\u001b[0m\u001b[0;34m\u001b[0m\u001b[0;34m\u001b[0m\u001b[0m\n\u001b[0m\u001b[1;32m   3665\u001b[0m     \u001b[0;32mreturn\u001b[0m \u001b[0mTurtle\u001b[0m\u001b[0;34m.\u001b[0m\u001b[0m_screen\u001b[0m\u001b[0;34m\u001b[0m\u001b[0;34m\u001b[0m\u001b[0m\n\u001b[1;32m   3666\u001b[0m \u001b[0;34m\u001b[0m\u001b[0m\n",
            "\u001b[0;32m/usr/lib/python3.9/turtle.py\u001b[0m in \u001b[0;36m__init__\u001b[0;34m(self)\u001b[0m\n\u001b[1;32m   3678\u001b[0m         \u001b[0;31m# preserved (perhaps by passing it as an optional parameter)\u001b[0m\u001b[0;34m\u001b[0m\u001b[0;34m\u001b[0m\u001b[0m\n\u001b[1;32m   3679\u001b[0m         \u001b[0;32mif\u001b[0m \u001b[0m_Screen\u001b[0m\u001b[0;34m.\u001b[0m\u001b[0m_root\u001b[0m \u001b[0;32mis\u001b[0m \u001b[0;32mNone\u001b[0m\u001b[0;34m:\u001b[0m\u001b[0;34m\u001b[0m\u001b[0;34m\u001b[0m\u001b[0m\n\u001b[0;32m-> 3680\u001b[0;31m             \u001b[0m_Screen\u001b[0m\u001b[0;34m.\u001b[0m\u001b[0m_root\u001b[0m \u001b[0;34m=\u001b[0m \u001b[0mself\u001b[0m\u001b[0;34m.\u001b[0m\u001b[0m_root\u001b[0m \u001b[0;34m=\u001b[0m \u001b[0m_Root\u001b[0m\u001b[0;34m(\u001b[0m\u001b[0;34m)\u001b[0m\u001b[0;34m\u001b[0m\u001b[0;34m\u001b[0m\u001b[0m\n\u001b[0m\u001b[1;32m   3681\u001b[0m             \u001b[0mself\u001b[0m\u001b[0;34m.\u001b[0m\u001b[0m_root\u001b[0m\u001b[0;34m.\u001b[0m\u001b[0mtitle\u001b[0m\u001b[0;34m(\u001b[0m\u001b[0m_Screen\u001b[0m\u001b[0;34m.\u001b[0m\u001b[0m_title\u001b[0m\u001b[0;34m)\u001b[0m\u001b[0;34m\u001b[0m\u001b[0;34m\u001b[0m\u001b[0m\n\u001b[1;32m   3682\u001b[0m             \u001b[0mself\u001b[0m\u001b[0;34m.\u001b[0m\u001b[0m_root\u001b[0m\u001b[0;34m.\u001b[0m\u001b[0mondestroy\u001b[0m\u001b[0;34m(\u001b[0m\u001b[0mself\u001b[0m\u001b[0;34m.\u001b[0m\u001b[0m_destroy\u001b[0m\u001b[0;34m)\u001b[0m\u001b[0;34m\u001b[0m\u001b[0;34m\u001b[0m\u001b[0m\n",
            "\u001b[0;32m/usr/lib/python3.9/turtle.py\u001b[0m in \u001b[0;36m__init__\u001b[0;34m(self)\u001b[0m\n\u001b[1;32m    433\u001b[0m     \u001b[0;34m\"\"\"Root class for Screen based on Tkinter.\"\"\"\u001b[0m\u001b[0;34m\u001b[0m\u001b[0;34m\u001b[0m\u001b[0m\n\u001b[1;32m    434\u001b[0m     \u001b[0;32mdef\u001b[0m \u001b[0m__init__\u001b[0m\u001b[0;34m(\u001b[0m\u001b[0mself\u001b[0m\u001b[0;34m)\u001b[0m\u001b[0;34m:\u001b[0m\u001b[0;34m\u001b[0m\u001b[0;34m\u001b[0m\u001b[0m\n\u001b[0;32m--> 435\u001b[0;31m         \u001b[0mTK\u001b[0m\u001b[0;34m.\u001b[0m\u001b[0mTk\u001b[0m\u001b[0;34m.\u001b[0m\u001b[0m__init__\u001b[0m\u001b[0;34m(\u001b[0m\u001b[0mself\u001b[0m\u001b[0;34m)\u001b[0m\u001b[0;34m\u001b[0m\u001b[0;34m\u001b[0m\u001b[0m\n\u001b[0m\u001b[1;32m    436\u001b[0m \u001b[0;34m\u001b[0m\u001b[0m\n\u001b[1;32m    437\u001b[0m     \u001b[0;32mdef\u001b[0m \u001b[0msetupcanvas\u001b[0m\u001b[0;34m(\u001b[0m\u001b[0mself\u001b[0m\u001b[0;34m,\u001b[0m \u001b[0mwidth\u001b[0m\u001b[0;34m,\u001b[0m \u001b[0mheight\u001b[0m\u001b[0;34m,\u001b[0m \u001b[0mcwidth\u001b[0m\u001b[0;34m,\u001b[0m \u001b[0mcheight\u001b[0m\u001b[0;34m)\u001b[0m\u001b[0;34m:\u001b[0m\u001b[0;34m\u001b[0m\u001b[0;34m\u001b[0m\u001b[0m\n",
            "\u001b[0;32m/usr/lib/python3.9/tkinter/__init__.py\u001b[0m in \u001b[0;36m__init__\u001b[0;34m(self, screenName, baseName, className, useTk, sync, use)\u001b[0m\n\u001b[1;32m   2268\u001b[0m                 \u001b[0mbaseName\u001b[0m \u001b[0;34m=\u001b[0m \u001b[0mbaseName\u001b[0m \u001b[0;34m+\u001b[0m \u001b[0mext\u001b[0m\u001b[0;34m\u001b[0m\u001b[0;34m\u001b[0m\u001b[0m\n\u001b[1;32m   2269\u001b[0m         \u001b[0minteractive\u001b[0m \u001b[0;34m=\u001b[0m \u001b[0;32mFalse\u001b[0m\u001b[0;34m\u001b[0m\u001b[0;34m\u001b[0m\u001b[0m\n\u001b[0;32m-> 2270\u001b[0;31m         \u001b[0mself\u001b[0m\u001b[0;34m.\u001b[0m\u001b[0mtk\u001b[0m \u001b[0;34m=\u001b[0m \u001b[0m_tkinter\u001b[0m\u001b[0;34m.\u001b[0m\u001b[0mcreate\u001b[0m\u001b[0;34m(\u001b[0m\u001b[0mscreenName\u001b[0m\u001b[0;34m,\u001b[0m \u001b[0mbaseName\u001b[0m\u001b[0;34m,\u001b[0m \u001b[0mclassName\u001b[0m\u001b[0;34m,\u001b[0m \u001b[0minteractive\u001b[0m\u001b[0;34m,\u001b[0m \u001b[0mwantobjects\u001b[0m\u001b[0;34m,\u001b[0m \u001b[0museTk\u001b[0m\u001b[0;34m,\u001b[0m \u001b[0msync\u001b[0m\u001b[0;34m,\u001b[0m \u001b[0muse\u001b[0m\u001b[0;34m)\u001b[0m\u001b[0;34m\u001b[0m\u001b[0;34m\u001b[0m\u001b[0m\n\u001b[0m\u001b[1;32m   2271\u001b[0m         \u001b[0;32mif\u001b[0m \u001b[0museTk\u001b[0m\u001b[0;34m:\u001b[0m\u001b[0;34m\u001b[0m\u001b[0;34m\u001b[0m\u001b[0m\n\u001b[1;32m   2272\u001b[0m             \u001b[0mself\u001b[0m\u001b[0;34m.\u001b[0m\u001b[0m_loadtk\u001b[0m\u001b[0;34m(\u001b[0m\u001b[0;34m)\u001b[0m\u001b[0;34m\u001b[0m\u001b[0;34m\u001b[0m\u001b[0m\n",
            "\u001b[0;31mTclError\u001b[0m: no display name and no $DISPLAY environment variable"
          ]
        }
      ]
    },
    {
      "cell_type": "markdown",
      "source": [
        "En gros la vous pensez que ça marche pas mais c'est à cause de collab, il veut pas l'afficher. donc si vous voulez le tester, faites un copier coller du programme ci-dessous dans un ide et ça marchera"
      ],
      "metadata": {
        "id": "0qVmuQ7Y6Jdf"
      }
    },
    {
      "cell_type": "code",
      "source": [
        "import random # pour choisir les murs au pif \n",
        "import turtle # pour l'affichage\n",
        "\n",
        "def somme_liste(input):\n",
        "    somme = 0\n",
        "    for ligne in input:\n",
        "        somme += sum(ligne)\n",
        "    return somme\n",
        "\n",
        "def creer_labyrinthe(longueur,largeur):\n",
        "    \"\"\"\n",
        "    longueur : int, c'est la longueur attendu pour labyrinthe résultant de la fonction\n",
        "    largeur : int, c'est la longueur attendu pour labyrinthe résultant de la fonction\n",
        "    \"\"\"\n",
        "    murs=[[[1,1,1,1] for a in range(longueur)] for b in range(largeur)]\n",
        "    x=0\n",
        "    y=0\n",
        "    les_visités=0\n",
        "    sommet_actuel=[x,y]\n",
        "    visité=[[0 for a in range(longueur)] for b in range(largeur)]\n",
        "    visité[x][y]=1\n",
        "    visitn=[[x,y]]\n",
        "    n=0\n",
        "    while les_visités!=(longueur*largeur):\n",
        "        possibilité=[0,0,0,0]\n",
        "        \n",
        "         #la on va regardé quels sont les murs qui peuvent être retiré\n",
        "        \n",
        "        if x!=0:\n",
        "            if visité[y][x-1]==0:\n",
        "                possibilité[0]=1  #le mur de gauche peut être retiré\n",
        "                \n",
        "        if y!=largeur-1:\n",
        "            if visité[y+1][x]==0:\n",
        "                possibilité[1]=1 # le mur de devant peut être retiré\n",
        "                \n",
        "        if x!=longueur-1:\n",
        "            if visité[y][x+1]==0:\n",
        "                possibilité[2]=1 # le mur de droite peut être retiré\n",
        "                \n",
        "        if y!=0:\n",
        "            if visité[y-1][x]==0:\n",
        "                possibilité[3]=1 #le mur du dessous peut être retiré\n",
        "                \n",
        "        \n",
        "        if possibilité==[0,0,0,0]:\n",
        "            sommet_actuel=visitn[n-1]\n",
        "            x=sommet_actuel[0]\n",
        "            y=sommet_actuel[1]\n",
        "            n=n-1# en gros la on à aucune possibilité donc on revient à la dernière case\n",
        "            \n",
        "            #la on va choisir où on va, et la le random va être giga utile car il va chosir à notre place\n",
        "        else:\n",
        "            sommet_trouvé=False\n",
        "            while sommet_trouvé==False:\n",
        "                al=random.randint(0,3)# al c'est le chiffre aléatoire entre 1 et 3 compris\n",
        "                \n",
        "                # Maintenant on va décortiquer les différents cas de al possible.\n",
        "                if possibilité[al]==1:\n",
        "                    \n",
        "                    if al==0:\n",
        "                        sommet_opposé=[sommet_actuel[0]-1,sommet_actuel[1]]# on va sur la case de gauche\n",
        "                        murs[sommet_actuel[1]][sommet_actuel[0]][0]=0# on retire le mur de gauche\n",
        "                        murs[sommet_opposé[1]][sommet_opposé[0]][2]=0\n",
        "                    \n",
        "                    elif al==1:\n",
        "                        sommet_opposé=[sommet_actuel[0],sommet_actuel[1]+1]# on va sur la case de devant\n",
        "                        murs[sommet_actuel[1]][sommet_actuel[0]][1]=0# on retire le mur de devant\n",
        "                        murs[sommet_opposé[1]][sommet_opposé[0]][3]=0\n",
        "                    \n",
        "                    elif al==2:\n",
        "                        sommet_opposé=[sommet_actuel[0]+1,sommet_actuel[1]]# on va sur la case de droite\n",
        "                        murs[sommet_actuel[1]][sommet_actuel[0]][2]=0# on retire le mur de droite\n",
        "                        murs[sommet_opposé[1]][sommet_opposé[0]][0]=0\n",
        "                    \n",
        "                    else:\n",
        "                        sommet_opposé=[sommet_actuel[0],sommet_actuel[1]-1]# on va sur la case du dessous\n",
        "                        murs[sommet_actuel[1]][sommet_actuel[0]][3]=0# on retire le mur du dessous\n",
        "                        murs[sommet_opposé[1]][sommet_opposé[0]][1]=0\n",
        "                    \n",
        "                    # Maintenant il faut initialiser les valeurs et faire du code un dfs\n",
        "                    \n",
        "                    n=n+1\n",
        "                    visitn.insert(n,sommet_opposé)\n",
        "                    sommet_actuel=sommet_opposé\n",
        "                    visité[sommet_actuel[1]][sommet_actuel[0]]=1\n",
        "                    x=sommet_actuel[0]\n",
        "                    y=sommet_actuel[1]\n",
        "                    sommet_trouvé=True\n",
        "        les_visités=somme_liste(visité)\n",
        "    return(murs)\n",
        "\n",
        "\n",
        "\n",
        "def dessine_labyrinthe(longueur,largeur,murs):\n",
        "    turtle.pensize(2)\n",
        "    début_x = -380\n",
        "    début_y = -début_x\n",
        "    taille_grille = (2*(-début_x))/longueur\n",
        "    turtle.clear()\n",
        "    turtle.speed(0)\n",
        "    turtle.penup()\n",
        "    turtle.goto(début_x,début_y)\n",
        "    turtle.pendown()\n",
        "    turtle.goto(-début_x,début_y)\n",
        "    turtle.goto(-début_x,-début_y)\n",
        "    turtle.setheading(0) #on règle l'orientation de la tortue vers la droite\n",
        "    \n",
        "    for y in range(longueur):\n",
        "        turtle.penup()\n",
        "        turtle.goto(début_x,-début_y+taille_grille*(y))\n",
        "        for x in range(largeur):\n",
        "            if murs[y][x][3] == 1:\n",
        "                turtle.pendown()\n",
        "            else :\n",
        "                turtle.penup()\n",
        "            turtle.forward(taille_grille)\n",
        "    turtle.left(90)\n",
        "\n",
        "    for x in range(longueur):\n",
        "        turtle.penup()\n",
        "        turtle.goto(début_x+taille_grille*(x),-début_y)\n",
        "        for y in range(largeur):\n",
        "            if murs[y][x][0] == 1:\n",
        "                turtle.pendown()\n",
        "            else:\n",
        "                turtle.penup()\n",
        "            turtle.forward(taille_grille)\n",
        "            \n",
        "longueur = 20 #ici c'est modifiable\n",
        "largeur = 20 # la aussi\n",
        "murs = creer_labyrinthe(longueur,largeur)\n",
        "print(murs)\n",
        "dessine_labyrinthe(longueur,largeur,murs)"
      ],
      "metadata": {
        "id": "u1SUZP8l6pjp",
        "colab": {
          "base_uri": "https://localhost:8080/",
          "height": 378
        },
        "outputId": "2328fd49-5682-4eb3-ae4e-fa14a9b367f5"
      },
      "execution_count": 10,
      "outputs": [
        {
          "output_type": "stream",
          "name": "stdout",
          "text": [
            "[[[1, 1, 0, 1], [0, 1, 0, 1], [0, 1, 0, 1], [0, 0, 1, 1], [1, 0, 0, 1], [0, 1, 0, 1], [0, 1, 0, 1], [0, 1, 0, 1], [0, 0, 1, 1], [1, 1, 0, 1], [0, 0, 0, 1], [0, 0, 1, 1], [1, 0, 0, 1], [0, 0, 1, 1], [1, 1, 0, 1], [0, 0, 0, 1], [0, 1, 0, 1], [0, 0, 1, 1], [1, 0, 0, 1], [0, 0, 1, 1]], [[1, 0, 0, 1], [0, 1, 0, 1], [0, 0, 1, 1], [1, 1, 0, 0], [0, 1, 1, 0], [1, 0, 0, 1], [0, 0, 0, 1], [0, 1, 1, 1], [1, 1, 0, 0], [0, 0, 1, 1], [1, 0, 1, 0], [1, 1, 0, 0], [0, 1, 1, 0], [1, 0, 1, 0], [1, 0, 0, 1], [0, 1, 1, 0], [1, 0, 0, 1], [0, 1, 1, 0], [1, 0, 1, 0], [1, 0, 1, 0]], [[1, 1, 0, 0], [0, 0, 1, 1], [1, 1, 0, 0], [0, 1, 0, 1], [0, 1, 0, 1], [0, 0, 1, 0], [1, 1, 1, 0], [1, 0, 0, 1], [0, 0, 1, 1], [1, 1, 0, 0], [0, 1, 1, 0], [1, 0, 0, 1], [0, 1, 0, 1], [0, 1, 1, 0], [1, 1, 0, 0], [0, 0, 1, 1], [1, 1, 0, 0], [0, 0, 1, 1], [1, 1, 1, 0], [1, 0, 1, 0]], [[1, 0, 0, 1], [0, 1, 1, 0], [1, 1, 0, 1], [0, 1, 0, 1], [0, 0, 1, 1], [1, 1, 0, 0], [0, 1, 0, 1], [0, 1, 1, 0], [1, 0, 0, 0], [0, 1, 0, 1], [0, 0, 1, 1], [1, 1, 0, 0], [0, 1, 0, 1], [0, 1, 0, 1], [0, 1, 0, 1], [0, 1, 1, 0], [1, 0, 1, 1], [1, 1, 0, 0], [0, 1, 0, 1], [0, 0, 1, 0]], [[1, 1, 0, 0], [0, 1, 0, 1], [0, 1, 0, 1], [0, 1, 0, 1], [0, 0, 1, 0], [1, 0, 0, 1], [0, 0, 1, 1], [1, 0, 0, 1], [0, 1, 1, 0], [1, 0, 1, 1], [1, 0, 1, 0], [1, 1, 0, 1], [0, 0, 0, 1], [0, 0, 0, 1], [0, 1, 0, 1], [0, 1, 1, 1], [1, 0, 0, 0], [0, 0, 1, 1], [1, 0, 0, 1], [0, 1, 1, 0]], [[1, 1, 0, 1], [0, 0, 0, 1], [0, 0, 1, 1], [1, 0, 0, 1], [0, 1, 0, 0], [0, 1, 1, 0], [1, 1, 1, 0], [1, 1, 0, 0], [0, 0, 1, 1], [1, 0, 1, 0], [1, 1, 0, 0], [0, 0, 1, 1], [1, 0, 1, 0], [1, 0, 1, 0], [1, 0, 0, 1], [0, 1, 0, 1], [0, 1, 1, 0], [1, 1, 0, 0], [0, 1, 1, 0], [1, 0, 1, 1]], [[1, 0, 0, 1], [0, 1, 1, 0], [1, 0, 1, 0], [1, 0, 1, 0], [1, 0, 1, 1], [1, 0, 0, 1], [0, 1, 0, 1], [0, 1, 0, 1], [0, 1, 1, 0], [1, 1, 0, 0], [0, 0, 1, 1], [1, 0, 1, 0], [1, 0, 1, 0], [1, 0, 1, 0], [1, 1, 0, 0], [0, 0, 1, 1], [1, 0, 0, 1], [0, 0, 0, 1], [0, 0, 1, 1], [1, 0, 1, 0]], [[1, 0, 1, 0], [1, 1, 0, 1], [0, 1, 1, 0], [1, 1, 0, 0], [0, 0, 1, 0], [1, 1, 0, 0], [0, 1, 0, 1], [0, 1, 0, 1], [0, 1, 0, 1], [0, 0, 1, 1], [1, 0, 1, 0], [1, 0, 1, 0], [1, 1, 1, 0], [1, 0, 1, 0], [1, 0, 0, 1], [0, 1, 1, 0], [1, 1, 1, 0], [1, 0, 1, 0], [1, 1, 0, 0], [0, 0, 1, 0]], [[1, 0, 0, 0], [0, 1, 0, 1], [0, 0, 0, 1], [0, 1, 1, 1], [1, 1, 0, 0], [0, 0, 1, 1], [1, 1, 0, 1], [0, 0, 0, 1], [0, 0, 1, 1], [1, 0, 1, 0], [1, 0, 1, 0], [1, 1, 0, 0], [0, 0, 1, 1], [1, 0, 1, 0], [1, 1, 0, 0], [0, 0, 1, 1], [1, 0, 0, 1], [0, 1, 1, 0], [1, 0, 0, 1], [0, 1, 1, 0]], [[1, 1, 0, 0], [0, 0, 1, 1], [1, 1, 0, 0], [0, 0, 0, 1], [0, 1, 1, 1], [1, 1, 0, 0], [0, 1, 0, 1], [0, 1, 1, 0], [1, 0, 1, 0], [1, 0, 1, 0], [1, 1, 0, 0], [0, 0, 1, 1], [1, 1, 0, 0], [0, 0, 1, 0], [1, 0, 0, 1], [0, 1, 1, 0], [1, 0, 1, 0], [1, 1, 0, 1], [0, 0, 1, 0], [1, 0, 1, 1]], [[1, 0, 1, 1], [1, 1, 0, 0], [0, 0, 1, 1], [1, 1, 0, 0], [0, 1, 0, 1], [0, 1, 0, 1], [0, 0, 1, 1], [1, 0, 0, 1], [0, 1, 1, 0], [1, 1, 0, 0], [0, 0, 1, 1], [1, 0, 0, 0], [0, 0, 1, 1], [1, 0, 1, 0], [1, 0, 1, 0], [1, 1, 0, 1], [0, 0, 0, 0], [0, 0, 1, 1], [1, 1, 0, 0], [0, 0, 1, 0]], [[1, 0, 0, 0], [0, 0, 1, 1], [1, 1, 0, 0], [0, 1, 0, 1], [0, 0, 1, 1], [1, 0, 0, 1], [0, 1, 1, 0], [1, 1, 0, 0], [0, 0, 1, 1], [1, 0, 0, 1], [0, 1, 1, 0], [1, 0, 1, 0], [1, 0, 1, 0], [1, 0, 1, 0], [1, 1, 0, 0], [0, 0, 1, 1], [1, 1, 1, 0], [1, 0, 1, 0], [1, 0, 1, 1], [1, 0, 1, 0]], [[1, 0, 1, 0], [1, 1, 0, 0], [0, 1, 1, 1], [1, 0, 0, 1], [0, 1, 1, 0], [1, 1, 0, 0], [0, 1, 0, 1], [0, 0, 1, 1], [1, 0, 1, 0], [1, 0, 1, 0], [1, 1, 0, 1], [0, 1, 1, 0], [1, 0, 0, 0], [0, 1, 0, 0], [0, 1, 1, 1], [1, 1, 0, 0], [0, 1, 0, 1], [0, 1, 1, 0], [1, 0, 1, 0], [1, 0, 1, 0]], [[1, 0, 0, 0], [0, 1, 0, 1], [0, 0, 1, 1], [1, 0, 1, 0], [1, 1, 0, 1], [0, 1, 0, 1], [0, 0, 1, 1], [1, 1, 0, 0], [0, 1, 1, 0], [1, 0, 1, 0], [1, 0, 0, 1], [0, 0, 1, 1], [1, 1, 0, 0], [0, 1, 1, 1], [1, 0, 0, 1], [0, 0, 0, 1], [0, 1, 0, 1], [0, 1, 0, 1], [0, 1, 1, 0], [1, 0, 1, 0]], [[1, 0, 0, 0], [0, 1, 1, 1], [1, 0, 1, 0], [1, 1, 0, 0], [0, 1, 0, 1], [0, 1, 0, 1], [0, 0, 1, 0], [1, 0, 0, 1], [0, 1, 0, 1], [0, 0, 1, 0], [1, 0, 1, 0], [1, 0, 1, 0], [1, 0, 0, 1], [0, 1, 0, 1], [0, 1, 1, 0], [1, 0, 1, 0], [1, 0, 0, 1], [0, 1, 0, 1], [0, 0, 1, 1], [1, 0, 1, 0]], [[1, 1, 1, 0], [1, 0, 0, 1], [0, 1, 0, 0], [0, 1, 1, 1], [1, 0, 0, 1], [0, 0, 1, 1], [1, 0, 1, 0], [1, 0, 1, 0], [1, 1, 0, 1], [0, 0, 1, 0], [1, 0, 1, 0], [1, 1, 0, 0], [0, 1, 1, 0], [1, 1, 0, 1], [0, 0, 1, 1], [1, 0, 1, 0], [1, 0, 1, 0], [1, 0, 1, 1], [1, 1, 0, 0], [0, 1, 1, 0]], [[1, 0, 0, 1], [0, 0, 1, 0], [1, 0, 0, 1], [0, 1, 0, 1], [0, 1, 1, 0], [1, 1, 0, 0], [0, 1, 1, 0], [1, 1, 0, 0], [0, 0, 1, 1], [1, 0, 1, 0], [1, 0, 1, 0], [1, 0, 0, 1], [0, 0, 1, 1], [1, 0, 0, 1], [0, 0, 1, 0], [1, 1, 0, 0], [0, 1, 1, 0], [1, 1, 0, 0], [0, 0, 0, 1], [0, 0, 1, 1]], [[1, 0, 1, 0], [1, 1, 1, 0], [1, 0, 1, 0], [1, 1, 0, 1], [0, 1, 0, 1], [0, 1, 0, 1], [0, 1, 0, 1], [0, 0, 1, 1], [1, 0, 1, 0], [1, 1, 1, 0], [1, 0, 1, 0], [1, 0, 1, 0], [1, 1, 0, 0], [0, 1, 1, 0], [1, 0, 1, 0], [1, 0, 1, 1], [1, 0, 0, 1], [0, 0, 0, 1], [0, 1, 1, 0], [1, 0, 1, 0]], [[1, 0, 0, 0], [0, 0, 1, 1], [1, 1, 0, 0], [0, 0, 1, 1], [1, 0, 0, 1], [0, 1, 0, 1], [0, 0, 1, 1], [1, 0, 1, 0], [1, 1, 0, 0], [0, 1, 0, 1], [0, 1, 1, 0], [1, 0, 1, 0], [1, 0, 0, 1], [0, 1, 0, 1], [0, 1, 1, 0], [1, 1, 0, 0], [0, 1, 1, 0], [1, 1, 0, 0], [0, 0, 1, 1], [1, 0, 1, 0]], [[1, 1, 1, 0], [1, 1, 0, 0], [0, 1, 0, 1], [0, 1, 0, 0], [0, 1, 1, 0], [1, 1, 0, 1], [0, 1, 0, 0], [0, 1, 0, 0], [0, 1, 0, 1], [0, 1, 0, 1], [0, 1, 0, 1], [0, 1, 1, 0], [1, 1, 0, 0], [0, 1, 0, 1], [0, 1, 0, 1], [0, 1, 0, 1], [0, 1, 0, 1], [0, 1, 0, 1], [0, 1, 1, 0], [1, 1, 1, 0]]]\n"
          ]
        },
        {
          "output_type": "error",
          "ename": "TclError",
          "evalue": "ignored",
          "traceback": [
            "\u001b[0;31m---------------------------------------------------------------------------\u001b[0m",
            "\u001b[0;31mTclError\u001b[0m                                  Traceback (most recent call last)",
            "\u001b[0;32m<ipython-input-10-ab5a22f1a1e5>\u001b[0m in \u001b[0;36m<cell line: 134>\u001b[0;34m()\u001b[0m\n\u001b[1;32m    132\u001b[0m \u001b[0mmurs\u001b[0m \u001b[0;34m=\u001b[0m \u001b[0mcreer_labyrinthe\u001b[0m\u001b[0;34m(\u001b[0m\u001b[0mlongueur\u001b[0m\u001b[0;34m,\u001b[0m\u001b[0mlargeur\u001b[0m\u001b[0;34m)\u001b[0m\u001b[0;34m\u001b[0m\u001b[0;34m\u001b[0m\u001b[0m\n\u001b[1;32m    133\u001b[0m \u001b[0mprint\u001b[0m\u001b[0;34m(\u001b[0m\u001b[0mmurs\u001b[0m\u001b[0;34m)\u001b[0m\u001b[0;34m\u001b[0m\u001b[0;34m\u001b[0m\u001b[0m\n\u001b[0;32m--> 134\u001b[0;31m \u001b[0mdessine_labyrinthe\u001b[0m\u001b[0;34m(\u001b[0m\u001b[0mlongueur\u001b[0m\u001b[0;34m,\u001b[0m\u001b[0mlargeur\u001b[0m\u001b[0;34m,\u001b[0m\u001b[0mmurs\u001b[0m\u001b[0;34m)\u001b[0m\u001b[0;34m\u001b[0m\u001b[0;34m\u001b[0m\u001b[0m\n\u001b[0m",
            "\u001b[0;32m<ipython-input-10-ab5a22f1a1e5>\u001b[0m in \u001b[0;36mdessine_labyrinthe\u001b[0;34m(longueur, largeur, murs)\u001b[0m\n\u001b[1;32m     94\u001b[0m \u001b[0;34m\u001b[0m\u001b[0m\n\u001b[1;32m     95\u001b[0m \u001b[0;32mdef\u001b[0m \u001b[0mdessine_labyrinthe\u001b[0m\u001b[0;34m(\u001b[0m\u001b[0mlongueur\u001b[0m\u001b[0;34m,\u001b[0m\u001b[0mlargeur\u001b[0m\u001b[0;34m,\u001b[0m\u001b[0mmurs\u001b[0m\u001b[0;34m)\u001b[0m\u001b[0;34m:\u001b[0m\u001b[0;34m\u001b[0m\u001b[0;34m\u001b[0m\u001b[0m\n\u001b[0;32m---> 96\u001b[0;31m     \u001b[0mturtle\u001b[0m\u001b[0;34m.\u001b[0m\u001b[0mpensize\u001b[0m\u001b[0;34m(\u001b[0m\u001b[0;36m2\u001b[0m\u001b[0;34m)\u001b[0m\u001b[0;34m\u001b[0m\u001b[0;34m\u001b[0m\u001b[0m\n\u001b[0m\u001b[1;32m     97\u001b[0m     \u001b[0mdébut_x\u001b[0m \u001b[0;34m=\u001b[0m \u001b[0;34m-\u001b[0m\u001b[0;36m380\u001b[0m\u001b[0;34m\u001b[0m\u001b[0;34m\u001b[0m\u001b[0m\n\u001b[1;32m     98\u001b[0m     \u001b[0mdébut_y\u001b[0m \u001b[0;34m=\u001b[0m \u001b[0;34m-\u001b[0m\u001b[0mdébut_x\u001b[0m\u001b[0;34m\u001b[0m\u001b[0;34m\u001b[0m\u001b[0m\n",
            "\u001b[0;32m/usr/lib/python3.9/turtle.py\u001b[0m in \u001b[0;36mpensize\u001b[0;34m(width)\u001b[0m\n",
            "\u001b[0;32m/usr/lib/python3.9/turtle.py\u001b[0m in \u001b[0;36m__init__\u001b[0;34m(self, shape, undobuffersize, visible)\u001b[0m\n\u001b[1;32m   3812\u001b[0m                  visible=_CFG[\"visible\"]):\n\u001b[1;32m   3813\u001b[0m         \u001b[0;32mif\u001b[0m \u001b[0mTurtle\u001b[0m\u001b[0;34m.\u001b[0m\u001b[0m_screen\u001b[0m \u001b[0;32mis\u001b[0m \u001b[0;32mNone\u001b[0m\u001b[0;34m:\u001b[0m\u001b[0;34m\u001b[0m\u001b[0;34m\u001b[0m\u001b[0m\n\u001b[0;32m-> 3814\u001b[0;31m             \u001b[0mTurtle\u001b[0m\u001b[0;34m.\u001b[0m\u001b[0m_screen\u001b[0m \u001b[0;34m=\u001b[0m \u001b[0mScreen\u001b[0m\u001b[0;34m(\u001b[0m\u001b[0;34m)\u001b[0m\u001b[0;34m\u001b[0m\u001b[0;34m\u001b[0m\u001b[0m\n\u001b[0m\u001b[1;32m   3815\u001b[0m         RawTurtle.__init__(self, Turtle._screen,\n\u001b[1;32m   3816\u001b[0m                            \u001b[0mshape\u001b[0m\u001b[0;34m=\u001b[0m\u001b[0mshape\u001b[0m\u001b[0;34m,\u001b[0m\u001b[0;34m\u001b[0m\u001b[0;34m\u001b[0m\u001b[0m\n",
            "\u001b[0;32m/usr/lib/python3.9/turtle.py\u001b[0m in \u001b[0;36mScreen\u001b[0;34m()\u001b[0m\n\u001b[1;32m   3662\u001b[0m     else return the existing one.\"\"\"\n\u001b[1;32m   3663\u001b[0m     \u001b[0;32mif\u001b[0m \u001b[0mTurtle\u001b[0m\u001b[0;34m.\u001b[0m\u001b[0m_screen\u001b[0m \u001b[0;32mis\u001b[0m \u001b[0;32mNone\u001b[0m\u001b[0;34m:\u001b[0m\u001b[0;34m\u001b[0m\u001b[0;34m\u001b[0m\u001b[0m\n\u001b[0;32m-> 3664\u001b[0;31m         \u001b[0mTurtle\u001b[0m\u001b[0;34m.\u001b[0m\u001b[0m_screen\u001b[0m \u001b[0;34m=\u001b[0m \u001b[0m_Screen\u001b[0m\u001b[0;34m(\u001b[0m\u001b[0;34m)\u001b[0m\u001b[0;34m\u001b[0m\u001b[0;34m\u001b[0m\u001b[0m\n\u001b[0m\u001b[1;32m   3665\u001b[0m     \u001b[0;32mreturn\u001b[0m \u001b[0mTurtle\u001b[0m\u001b[0;34m.\u001b[0m\u001b[0m_screen\u001b[0m\u001b[0;34m\u001b[0m\u001b[0;34m\u001b[0m\u001b[0m\n\u001b[1;32m   3666\u001b[0m \u001b[0;34m\u001b[0m\u001b[0m\n",
            "\u001b[0;32m/usr/lib/python3.9/turtle.py\u001b[0m in \u001b[0;36m__init__\u001b[0;34m(self)\u001b[0m\n\u001b[1;32m   3678\u001b[0m         \u001b[0;31m# preserved (perhaps by passing it as an optional parameter)\u001b[0m\u001b[0;34m\u001b[0m\u001b[0;34m\u001b[0m\u001b[0m\n\u001b[1;32m   3679\u001b[0m         \u001b[0;32mif\u001b[0m \u001b[0m_Screen\u001b[0m\u001b[0;34m.\u001b[0m\u001b[0m_root\u001b[0m \u001b[0;32mis\u001b[0m \u001b[0;32mNone\u001b[0m\u001b[0;34m:\u001b[0m\u001b[0;34m\u001b[0m\u001b[0;34m\u001b[0m\u001b[0m\n\u001b[0;32m-> 3680\u001b[0;31m             \u001b[0m_Screen\u001b[0m\u001b[0;34m.\u001b[0m\u001b[0m_root\u001b[0m \u001b[0;34m=\u001b[0m \u001b[0mself\u001b[0m\u001b[0;34m.\u001b[0m\u001b[0m_root\u001b[0m \u001b[0;34m=\u001b[0m \u001b[0m_Root\u001b[0m\u001b[0;34m(\u001b[0m\u001b[0;34m)\u001b[0m\u001b[0;34m\u001b[0m\u001b[0;34m\u001b[0m\u001b[0m\n\u001b[0m\u001b[1;32m   3681\u001b[0m             \u001b[0mself\u001b[0m\u001b[0;34m.\u001b[0m\u001b[0m_root\u001b[0m\u001b[0;34m.\u001b[0m\u001b[0mtitle\u001b[0m\u001b[0;34m(\u001b[0m\u001b[0m_Screen\u001b[0m\u001b[0;34m.\u001b[0m\u001b[0m_title\u001b[0m\u001b[0;34m)\u001b[0m\u001b[0;34m\u001b[0m\u001b[0;34m\u001b[0m\u001b[0m\n\u001b[1;32m   3682\u001b[0m             \u001b[0mself\u001b[0m\u001b[0;34m.\u001b[0m\u001b[0m_root\u001b[0m\u001b[0;34m.\u001b[0m\u001b[0mondestroy\u001b[0m\u001b[0;34m(\u001b[0m\u001b[0mself\u001b[0m\u001b[0;34m.\u001b[0m\u001b[0m_destroy\u001b[0m\u001b[0;34m)\u001b[0m\u001b[0;34m\u001b[0m\u001b[0;34m\u001b[0m\u001b[0m\n",
            "\u001b[0;32m/usr/lib/python3.9/turtle.py\u001b[0m in \u001b[0;36m__init__\u001b[0;34m(self)\u001b[0m\n\u001b[1;32m    433\u001b[0m     \u001b[0;34m\"\"\"Root class for Screen based on Tkinter.\"\"\"\u001b[0m\u001b[0;34m\u001b[0m\u001b[0;34m\u001b[0m\u001b[0m\n\u001b[1;32m    434\u001b[0m     \u001b[0;32mdef\u001b[0m \u001b[0m__init__\u001b[0m\u001b[0;34m(\u001b[0m\u001b[0mself\u001b[0m\u001b[0;34m)\u001b[0m\u001b[0;34m:\u001b[0m\u001b[0;34m\u001b[0m\u001b[0;34m\u001b[0m\u001b[0m\n\u001b[0;32m--> 435\u001b[0;31m         \u001b[0mTK\u001b[0m\u001b[0;34m.\u001b[0m\u001b[0mTk\u001b[0m\u001b[0;34m.\u001b[0m\u001b[0m__init__\u001b[0m\u001b[0;34m(\u001b[0m\u001b[0mself\u001b[0m\u001b[0;34m)\u001b[0m\u001b[0;34m\u001b[0m\u001b[0;34m\u001b[0m\u001b[0m\n\u001b[0m\u001b[1;32m    436\u001b[0m \u001b[0;34m\u001b[0m\u001b[0m\n\u001b[1;32m    437\u001b[0m     \u001b[0;32mdef\u001b[0m \u001b[0msetupcanvas\u001b[0m\u001b[0;34m(\u001b[0m\u001b[0mself\u001b[0m\u001b[0;34m,\u001b[0m \u001b[0mwidth\u001b[0m\u001b[0;34m,\u001b[0m \u001b[0mheight\u001b[0m\u001b[0;34m,\u001b[0m \u001b[0mcwidth\u001b[0m\u001b[0;34m,\u001b[0m \u001b[0mcheight\u001b[0m\u001b[0;34m)\u001b[0m\u001b[0;34m:\u001b[0m\u001b[0;34m\u001b[0m\u001b[0;34m\u001b[0m\u001b[0m\n",
            "\u001b[0;32m/usr/lib/python3.9/tkinter/__init__.py\u001b[0m in \u001b[0;36m__init__\u001b[0;34m(self, screenName, baseName, className, useTk, sync, use)\u001b[0m\n\u001b[1;32m   2268\u001b[0m                 \u001b[0mbaseName\u001b[0m \u001b[0;34m=\u001b[0m \u001b[0mbaseName\u001b[0m \u001b[0;34m+\u001b[0m \u001b[0mext\u001b[0m\u001b[0;34m\u001b[0m\u001b[0;34m\u001b[0m\u001b[0m\n\u001b[1;32m   2269\u001b[0m         \u001b[0minteractive\u001b[0m \u001b[0;34m=\u001b[0m \u001b[0;32mFalse\u001b[0m\u001b[0;34m\u001b[0m\u001b[0;34m\u001b[0m\u001b[0m\n\u001b[0;32m-> 2270\u001b[0;31m         \u001b[0mself\u001b[0m\u001b[0;34m.\u001b[0m\u001b[0mtk\u001b[0m \u001b[0;34m=\u001b[0m \u001b[0m_tkinter\u001b[0m\u001b[0;34m.\u001b[0m\u001b[0mcreate\u001b[0m\u001b[0;34m(\u001b[0m\u001b[0mscreenName\u001b[0m\u001b[0;34m,\u001b[0m \u001b[0mbaseName\u001b[0m\u001b[0;34m,\u001b[0m \u001b[0mclassName\u001b[0m\u001b[0;34m,\u001b[0m \u001b[0minteractive\u001b[0m\u001b[0;34m,\u001b[0m \u001b[0mwantobjects\u001b[0m\u001b[0;34m,\u001b[0m \u001b[0museTk\u001b[0m\u001b[0;34m,\u001b[0m \u001b[0msync\u001b[0m\u001b[0;34m,\u001b[0m \u001b[0muse\u001b[0m\u001b[0;34m)\u001b[0m\u001b[0;34m\u001b[0m\u001b[0;34m\u001b[0m\u001b[0m\n\u001b[0m\u001b[1;32m   2271\u001b[0m         \u001b[0;32mif\u001b[0m \u001b[0museTk\u001b[0m\u001b[0;34m:\u001b[0m\u001b[0;34m\u001b[0m\u001b[0;34m\u001b[0m\u001b[0m\n\u001b[1;32m   2272\u001b[0m             \u001b[0mself\u001b[0m\u001b[0;34m.\u001b[0m\u001b[0m_loadtk\u001b[0m\u001b[0;34m(\u001b[0m\u001b[0;34m)\u001b[0m\u001b[0;34m\u001b[0m\u001b[0;34m\u001b[0m\u001b[0m\n",
            "\u001b[0;31mTclError\u001b[0m: no display name and no $DISPLAY environment variable"
          ]
        }
      ]
    }
  ]
}